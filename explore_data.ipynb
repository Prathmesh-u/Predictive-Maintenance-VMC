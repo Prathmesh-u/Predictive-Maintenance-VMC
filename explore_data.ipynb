{
 "cells": [
  {
   "cell_type": "code",
   "execution_count": 4,
   "id": "1f50af95",
   "metadata": {},
   "outputs": [],
   "source": [
    "import pandas as pd"
   ]
  },
  {
   "cell_type": "code",
   "execution_count": 5,
   "id": "18ee5921",
   "metadata": {},
   "outputs": [],
   "source": [
    "df = pd.read_csv(\"data/VMC_Dashboard_Corrected_3000_Entries_With_Date_Time.csv\")"
   ]
  },
  {
   "cell_type": "code",
   "execution_count": 6,
   "id": "bdd39328",
   "metadata": {},
   "outputs": [
    {
     "name": "stdout",
     "output_type": "stream",
     "text": [
      "\n",
      "🔹 First 5 Rows:\n",
      "         Date      Time Job ID  Cycle Time (s)  Job Count  \\\n",
      "0  2025-05-05  18:00:23  J1000             157          1   \n",
      "1  2025-05-05  18:00:39  J1000              88          2   \n",
      "2  2025-05-05  18:01:31  J1000              92          3   \n",
      "3  2025-05-05  18:02:19  J1000              67          4   \n",
      "4  2025-05-05  18:02:40  J1000              53          5   \n",
      "\n",
      "   Machine Utilization (%)  Spindle Speed (RPM)  Feed Rate (mm/min)  \\\n",
      "0                    88.64                 3904                 656   \n",
      "1                    66.12                 3456                 351   \n",
      "2                    85.00                 4952                 831   \n",
      "3                    85.41                 6951                1039   \n",
      "4                    75.36                 6801                 436   \n",
      "\n",
      "   Tool Number  Tool Wear (%) Part Status Defect Type  Vibration Level (mm/s)  \\\n",
      "0            7            0.0          OK         NaN                    3.74   \n",
      "1            2            2.5          OK         NaN                    2.92   \n",
      "2            1            5.0          OK         NaN                    2.32   \n",
      "3            8            7.5          OK         NaN                    3.02   \n",
      "4            6           10.0          OK         NaN                    4.93   \n",
      "\n",
      "   Spindle Temperature (°C)  Power Consumption (kWh) Operator ID  \\\n",
      "0                        58                     2.19         OP1   \n",
      "1                        43                     2.01         OP3   \n",
      "2                        47                     0.82         OP1   \n",
      "3                        38                     2.46         OP1   \n",
      "4                        40                     1.93         OP2   \n",
      "\n",
      "  Machine Status  \n",
      "0        Running  \n",
      "1        Running  \n",
      "2        Running  \n",
      "3        Running  \n",
      "4        Running  \n"
     ]
    }
   ],
   "source": [
    "print(\"\\n🔹 First 5 Rows:\")\n",
    "print(df.head())"
   ]
  },
  {
   "cell_type": "code",
   "execution_count": 7,
   "id": "4a95ea2a",
   "metadata": {},
   "outputs": [
    {
     "name": "stdout",
     "output_type": "stream",
     "text": [
      "\n",
      "🔹 Column Names:\n",
      "Index(['Date', 'Time', 'Job ID', 'Cycle Time (s)', 'Job Count',\n",
      "       'Machine Utilization (%)', 'Spindle Speed (RPM)', 'Feed Rate (mm/min)',\n",
      "       'Tool Number', 'Tool Wear (%)', 'Part Status', 'Defect Type',\n",
      "       'Vibration Level (mm/s)', 'Spindle Temperature (°C)',\n",
      "       'Power Consumption (kWh)', 'Operator ID', 'Machine Status'],\n",
      "      dtype='object')\n"
     ]
    }
   ],
   "source": [
    "print(\"\\n🔹 Column Names:\")\n",
    "print(df.columns)"
   ]
  },
  {
   "cell_type": "code",
   "execution_count": 8,
   "id": "cd5eb756",
   "metadata": {},
   "outputs": [
    {
     "name": "stdout",
     "output_type": "stream",
     "text": [
      "\n",
      "🔹 Info:\n",
      "<class 'pandas.core.frame.DataFrame'>\n",
      "RangeIndex: 3000 entries, 0 to 2999\n",
      "Data columns (total 17 columns):\n",
      " #   Column                    Non-Null Count  Dtype  \n",
      "---  ------                    --------------  -----  \n",
      " 0   Date                      3000 non-null   object \n",
      " 1   Time                      3000 non-null   object \n",
      " 2   Job ID                    3000 non-null   object \n",
      " 3   Cycle Time (s)            3000 non-null   int64  \n",
      " 4   Job Count                 3000 non-null   int64  \n",
      " 5   Machine Utilization (%)   3000 non-null   float64\n",
      " 6   Spindle Speed (RPM)       3000 non-null   int64  \n",
      " 7   Feed Rate (mm/min)        3000 non-null   int64  \n",
      " 8   Tool Number               3000 non-null   int64  \n",
      " 9   Tool Wear (%)             3000 non-null   float64\n",
      " 10  Part Status               2684 non-null   object \n",
      " 11  Defect Type               149 non-null    object \n",
      " 12  Vibration Level (mm/s)    3000 non-null   float64\n",
      " 13  Spindle Temperature (°C)  3000 non-null   int64  \n",
      " 14  Power Consumption (kWh)   3000 non-null   float64\n",
      " 15  Operator ID               3000 non-null   object \n",
      " 16  Machine Status            3000 non-null   object \n",
      "dtypes: float64(4), int64(6), object(7)\n",
      "memory usage: 398.6+ KB\n",
      "None\n"
     ]
    }
   ],
   "source": [
    "print(\"\\n🔹 Info:\")\n",
    "print(df.info())"
   ]
  },
  {
   "cell_type": "code",
   "execution_count": 9,
   "id": "24ba2a76",
   "metadata": {},
   "outputs": [
    {
     "name": "stdout",
     "output_type": "stream",
     "text": [
      "\n",
      "🔹 Missing Values:\n",
      "Date                           0\n",
      "Time                           0\n",
      "Job ID                         0\n",
      "Cycle Time (s)                 0\n",
      "Job Count                      0\n",
      "Machine Utilization (%)        0\n",
      "Spindle Speed (RPM)            0\n",
      "Feed Rate (mm/min)             0\n",
      "Tool Number                    0\n",
      "Tool Wear (%)                  0\n",
      "Part Status                  316\n",
      "Defect Type                 2851\n",
      "Vibration Level (mm/s)         0\n",
      "Spindle Temperature (°C)       0\n",
      "Power Consumption (kWh)        0\n",
      "Operator ID                    0\n",
      "Machine Status                 0\n",
      "dtype: int64\n"
     ]
    }
   ],
   "source": [
    "print(\"\\n🔹 Missing Values:\")\n",
    "print(df.isnull().sum())"
   ]
  },
  {
   "cell_type": "code",
   "execution_count": 10,
   "id": "1b77b918",
   "metadata": {},
   "outputs": [
    {
     "name": "stdout",
     "output_type": "stream",
     "text": [
      "\n",
      "🔹 Statistical Summary:\n",
      "       Cycle Time (s)    Job Count  Machine Utilization (%)  \\\n",
      "count     3000.000000  3000.000000              3000.000000   \n",
      "mean       101.234333  1332.899667                79.969337   \n",
      "std         33.238377   777.126991                 8.607399   \n",
      "min         45.000000     1.000000                65.030000   \n",
      "25%         72.750000   656.000000                72.627500   \n",
      "50%        101.000000  1324.500000                80.220000   \n",
      "75%        129.000000  2008.250000                87.372500   \n",
      "max        159.000000  2684.000000                95.000000   \n",
      "\n",
      "       Spindle Speed (RPM)  Feed Rate (mm/min)  Tool Number  Tool Wear (%)  \\\n",
      "count          3000.000000         3000.000000  3000.000000    3000.000000   \n",
      "mean           5230.644667          739.763667     5.515333      48.750000   \n",
      "std            1293.100673          262.121328     2.848123      28.863302   \n",
      "min            3000.000000          300.000000     1.000000       0.000000   \n",
      "25%            4116.750000          508.750000     3.000000      24.375000   \n",
      "50%            5206.000000          740.000000     6.000000      48.750000   \n",
      "75%            6343.250000          962.000000     8.000000      73.125000   \n",
      "max            7499.000000         1199.000000    10.000000      97.500000   \n",
      "\n",
      "       Vibration Level (mm/s)  Spindle Temperature (°C)  \\\n",
      "count             3000.000000               3000.000000   \n",
      "mean                 2.799417                 49.353333   \n",
      "std                  1.306160                  8.669999   \n",
      "min                  0.500000                 35.000000   \n",
      "25%                  1.670000                 42.000000   \n",
      "50%                  2.830000                 49.000000   \n",
      "75%                  3.930000                 57.000000   \n",
      "max                  5.000000                 64.000000   \n",
      "\n",
      "       Power Consumption (kWh)  \n",
      "count              3000.000000  \n",
      "mean                  1.352853  \n",
      "std                   0.658772  \n",
      "min                   0.200000  \n",
      "25%                   0.790000  \n",
      "50%                   1.355000  \n",
      "75%                   1.910000  \n",
      "max                   2.500000  \n"
     ]
    }
   ],
   "source": [
    "print(\"\\n🔹 Statistical Summary:\")\n",
    "print(df.describe())"
   ]
  },
  {
   "cell_type": "code",
   "execution_count": null,
   "id": "75fcde29",
   "metadata": {},
   "outputs": [],
   "source": []
  }
 ],
 "metadata": {
  "kernelspec": {
   "display_name": "venv",
   "language": "python",
   "name": "python3"
  },
  "language_info": {
   "codemirror_mode": {
    "name": "ipython",
    "version": 3
   },
   "file_extension": ".py",
   "mimetype": "text/x-python",
   "name": "python",
   "nbconvert_exporter": "python",
   "pygments_lexer": "ipython3",
   "version": "3.10.11"
  }
 },
 "nbformat": 4,
 "nbformat_minor": 5
}
